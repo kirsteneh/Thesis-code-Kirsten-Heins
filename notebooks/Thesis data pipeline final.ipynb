{
 "cells": [
  {
   "cell_type": "markdown",
   "id": "cff5f8b1",
   "metadata": {},
   "source": [
    "# Part A: Data preprocessing"
   ]
  },
  {
   "cell_type": "markdown",
   "id": "74475adb",
   "metadata": {},
   "source": [
    "### A1 Importing packages and dataset"
   ]
  },
  {
   "cell_type": "code",
   "execution_count": null,
   "id": "d1b5f56b",
   "metadata": {},
   "outputs": [],
   "source": [
    "from platform import python_version\n",
    "python_version() "
   ]
  },
  {
   "cell_type": "code",
   "execution_count": null,
   "id": "992c2932",
   "metadata": {},
   "outputs": [],
   "source": [
    "# import packages\n",
    "import pandas as pd\n",
    "import numpy as np\n",
    "\n",
    "# import train datasets\n",
    "train_identity = pd.read_csv(\"train_identity.csv\")\n",
    "train_transaction = pd.read_csv(\"train_transaction.csv\")"
   ]
  },
  {
   "cell_type": "code",
   "execution_count": null,
   "id": "3405621c",
   "metadata": {},
   "outputs": [],
   "source": [
    "# join datasets together on transactionID\n",
    "train_df = train_identity.join(train_transaction.set_index('TransactionID'), on='TransactionID', how='inner')\n",
    "train_df"
   ]
  },
  {
   "cell_type": "markdown",
   "id": "9257edc3",
   "metadata": {},
   "source": [
    "### A2 Reindexing dataset"
   ]
  },
  {
   "cell_type": "code",
   "execution_count": null,
   "id": "e329110d",
   "metadata": {},
   "outputs": [],
   "source": [
    "# reindex data with fraud as last column\n",
    "train_df2 = train_df.reindex(columns = [col for col in train_df.columns if col != 'isFraud'] + ['isFraud'])\n",
    "train_df2"
   ]
  },
  {
   "cell_type": "markdown",
   "id": "69c4c4ad",
   "metadata": {},
   "source": [
    "### A3 delete features containing 30% missing data"
   ]
  },
  {
   "cell_type": "code",
   "execution_count": null,
   "id": "9d3fbc7c",
   "metadata": {},
   "outputs": [],
   "source": [
    "# check how much features are missing at least 30% of their data\n",
    "print(\"Features with more than 30% data missing:\",sum(train_df2.isnull().sum()/train_df2.shape[0] > 0.30))\n",
    "print()\n",
    "xx = train_df2.isnull().sum()/train_df2.shape[0] > 0.30\n",
    "print(xx)\n",
    "print()\n",
    "#\n",
    "delfeat = np.where(train_df2.isnull().sum()/train_df2.shape[0] > 0.30)\n",
    "print(delfeat)\n",
    "\n",
    "# DROP COLUMNS\n",
    "train_df3 = train_df2.drop(train_df2.columns[train_df2.apply(lambda col: col.isnull().sum()/train_df2.shape[0] > 0.30)], axis=1)\n",
    "train_df3"
   ]
  },
  {
   "cell_type": "markdown",
   "id": "6e885543",
   "metadata": {},
   "source": [
    "### A4 converting categorical features"
   ]
  },
  {
   "cell_type": "code",
   "execution_count": null,
   "id": "cae9a6b9",
   "metadata": {},
   "outputs": [],
   "source": [
    "# select categorical features\n",
    "train_cat = train_df3.select_dtypes(exclude=np.number)\n",
    "train_cat"
   ]
  },
  {
   "cell_type": "code",
   "execution_count": null,
   "id": "089f79be",
   "metadata": {},
   "outputs": [],
   "source": [
    "# check which categorical features can be converted to numerical features\n",
    "REMAIL = train_cat.iloc[:,0]\n",
    "print(REMAIL.value_counts())\n",
    "print()\n",
    "REMAIL = train_cat.iloc[:,1]\n",
    "print(REMAIL.value_counts())\n",
    "print()\n",
    "REMAIL = train_cat.iloc[:,2]\n",
    "print(REMAIL.value_counts())\n",
    "print()\n",
    "REMAIL = train_cat.iloc[:,3]\n",
    "print(REMAIL.value_counts())\n",
    "print()\n",
    "REMAIL = train_cat.iloc[:,4]\n",
    "print(REMAIL.value_counts())\n",
    "print()\n",
    "REMAIL = train_cat.iloc[:,5]\n",
    "print(REMAIL.value_counts())\n",
    "print()\n",
    "REMAIL = train_cat.iloc[:,6]\n",
    "print(REMAIL.value_counts())\n",
    "print()\n",
    "REMAIL = train_cat.iloc[:,7]\n",
    "print(REMAIL.value_counts())\n",
    "print()\n",
    "REMAIL = train_cat.iloc[:,8]\n",
    "print(REMAIL.value_counts())\n",
    "print()\n",
    "REMAIL = train_cat.iloc[:,9]\n",
    "print(REMAIL.value_counts())\n",
    "print()\n",
    "REMAIL = train_cat.iloc[:,10]\n",
    "print(REMAIL.value_counts())\n",
    "print()\n",
    "REMAIL = train_cat.iloc[:,11]\n",
    "print(REMAIL.value_counts())\n",
    "print()\n",
    "REMAIL = train_cat.iloc[:,12]\n",
    "print(REMAIL.value_counts())\n",
    "print()\n",
    "REMAIL = train_cat.iloc[:,13]\n",
    "print(REMAIL.value_counts())\n",
    "print()\n",
    "REMAIL = train_cat.iloc[:,14]\n",
    "print(REMAIL.value_counts())\n",
    "print()\n",
    "REMAIL = train_cat.iloc[:,15]\n",
    "print(REMAIL.value_counts())\n",
    "print()\n",
    "REMAIL = train_cat.iloc[:,16]\n",
    "print(REMAIL.value_counts())\n",
    "print()\n",
    "\n",
    "# two values: id_12, id_16, id_28, id_29, id_35, id_36, id_37, id_38, devicetype\n",
    "# three values: id_15, card_6\n",
    "# more than three values: id_31, deviceinfo, productcd, card4, p_emaildomain, r_emaildomain"
   ]
  },
  {
   "cell_type": "code",
   "execution_count": null,
   "id": "80921c10",
   "metadata": {},
   "outputs": [],
   "source": [
    "# drop categorical features that have more than two values\n",
    "train_df4 = train_df3\n",
    "train_df4.drop(['id_15', 'card6','id_31','DeviceInfo','ProductCD','card4','P_emaildomain','R_emaildomain'], axis = 1, inplace = True)\n",
    "train_df4"
   ]
  },
  {
   "cell_type": "code",
   "execution_count": null,
   "id": "ef70036c",
   "metadata": {},
   "outputs": [],
   "source": [
    "# encoding categorical features: id_12, id_16, id_28, id_29, id_35, id_36, id_37, id_38, devicetype\n",
    "train_df4[\"id_12\"]=train_df4[\"id_12\"].map({\"Found\":1,\"NotFound\":0})\n",
    "train_df4[\"id_16\"]=train_df4[\"id_16\"].map({\"Found\":1,\"NotFound\":0})\n",
    "train_df4[\"id_28\"]=train_df4[\"id_28\"].map({\"Found\":1,\"New\":0})\n",
    "train_df4[\"id_29\"]=train_df4[\"id_29\"].map({\"Found\":1,\"NotFound\":0})\n",
    "train_df4[\"id_35\"]=train_df4[\"id_35\"].map({\"T\":1,\"F\":0})\n",
    "train_df4[\"id_36\"]=train_df4[\"id_36\"].map({\"T\":1,\"F\":0})\n",
    "train_df4[\"id_37\"]=train_df4[\"id_37\"].map({\"T\":1,\"F\":0})\n",
    "train_df4[\"id_38\"]=train_df4[\"id_38\"].map({\"T\":1,\"F\":0})\n",
    "train_df4[\"DeviceType\"]=train_df4[\"DeviceType\"].map({\"desktop\":1,\"mobile\":0})"
   ]
  },
  {
   "cell_type": "code",
   "execution_count": null,
   "id": "9268be9e",
   "metadata": {},
   "outputs": [],
   "source": [
    "train_df4"
   ]
  },
  {
   "cell_type": "markdown",
   "id": "7d0aafe9",
   "metadata": {},
   "source": [
    "### A5 Delete (quasi-)constant features"
   ]
  },
  {
   "cell_type": "code",
   "execution_count": null,
   "id": "47215509",
   "metadata": {},
   "outputs": [],
   "source": [
    "import pandas as pd\n",
    "import numpy as np\n",
    "from sklearn.model_selection import train_test_split\n",
    "\n",
    "train_x, test_x, train_y, test_y= train_test_split(train_df4.drop(\"isFraud\",axis=1),train_df4.isFraud,test_size=0.2,random_state=0)"
   ]
  },
  {
   "cell_type": "code",
   "execution_count": null,
   "id": "0b3fad9a",
   "metadata": {},
   "outputs": [],
   "source": [
    "from sklearn.feature_selection import VarianceThreshold\n",
    "qcons_filter = VarianceThreshold(threshold=0.01)\n",
    "\n",
    "#Fit and transforming on train data\n",
    "data_qcons = qcons_filter.fit_transform(train_x)\n",
    "print(data_qcons.shape)\n",
    "\n",
    "#Extracting all Quasi constant columns using get support function of our filter\n",
    "qcons_columns = [column for column in train_x.columns\n",
    "                    if column not in train_x.columns[qcons_filter.get_support()]]\n",
    "\n",
    "#No. of Quasi constant columns\n",
    "print(len(qcons_columns))\n",
    "\n",
    "#Quasi Constant columns names:\n",
    "for column in qcons_columns:\n",
    "    print(column)"
   ]
  },
  {
   "cell_type": "code",
   "execution_count": null,
   "id": "29239b9d",
   "metadata": {},
   "outputs": [],
   "source": [
    "# drop (quasi-)constant features\n",
    "train_df6 = train_df4.drop(qcons_columns,axis=1)\n",
    "train_df6.shape\n",
    "train_df6"
   ]
  },
  {
   "cell_type": "markdown",
   "id": "c85396b5",
   "metadata": {},
   "source": [
    "### A6 Drop rows containing missing values"
   ]
  },
  {
   "cell_type": "code",
   "execution_count": null,
   "id": "481231d5",
   "metadata": {},
   "outputs": [],
   "source": [
    "# drop rows containing missing values\n",
    "final_df = train_df6.dropna()\n",
    "final_df"
   ]
  },
  {
   "cell_type": "markdown",
   "id": "feb09b4b",
   "metadata": {},
   "source": [
    "### A7 create dataframe without target column isFraud"
   ]
  },
  {
   "cell_type": "code",
   "execution_count": null,
   "id": "c00652c3",
   "metadata": {},
   "outputs": [],
   "source": [
    "# drop target column isFraud\n",
    "final_df1 = final_df.drop(\"isFraud\",axis=1)\n",
    "final_df1"
   ]
  },
  {
   "cell_type": "markdown",
   "id": "f643e7f2",
   "metadata": {},
   "source": [
    "### A8 Create insight about percentage of fraud in the dataset"
   ]
  },
  {
   "cell_type": "code",
   "execution_count": null,
   "id": "5bee81fd",
   "metadata": {},
   "outputs": [],
   "source": [
    "# compute percentage fraud after joining datasets on transactionID\n",
    "fraud2 = final_df.iloc[:,-1]\n",
    "print(fraud2.value_counts())\n",
    "print()\n",
    "print('Percentage fraud: ',str(round((100/91325)*8182,1))+'%')\n",
    "\n",
    "import matplotlib.pyplot as plt\n",
    "\n",
    "# Make a random dataset:\n",
    "data = [8182, 91325]\n",
    "bars = (0, 1)\n",
    "y_pos = np.arange(len(bars))\n",
    "\n",
    "# Create bars\n",
    "plt.bar(y_pos, data)\n",
    "plt.title('Amount of fraudulent transactions')\n",
    "plt.xlabel('Legal vs. fraud')\n",
    "plt.ylabel('Number of transactions')\n",
    "\n",
    "# Create names on the x-axis\n",
    "plt.xticks(y_pos, bars)\n",
    "\n",
    "# Show graphic\n",
    "plt.show()"
   ]
  },
  {
   "cell_type": "markdown",
   "id": "b8446a4e",
   "metadata": {},
   "source": [
    "# Part B: Modelling"
   ]
  },
  {
   "cell_type": "markdown",
   "id": "2a41a49c",
   "metadata": {},
   "source": [
    "## B1 Logistic regression"
   ]
  },
  {
   "cell_type": "markdown",
   "id": "396f62bc",
   "metadata": {},
   "source": [
    "### B1.1 Logistic regression before SMOTE"
   ]
  },
  {
   "cell_type": "code",
   "execution_count": null,
   "id": "5e29291c",
   "metadata": {},
   "outputs": [],
   "source": [
    "from numpy import mean\n",
    "from numpy import std\n",
    "from sklearn.datasets import make_classification\n",
    "from sklearn.model_selection import cross_val_score\n",
    "from sklearn.model_selection import RepeatedStratifiedKFold\n",
    "from sklearn.linear_model import LogisticRegressionCV\n",
    "from sklearn.ensemble import RandomForestClassifier\n",
    "from sklearn.metrics import roc_auc_score\n",
    "from sklearn.metrics import f1_score\n",
    "\n",
    "# define dataset\n",
    "X = final_df1\n",
    "y = final_df.isFraud\n",
    "\n",
    "# split train test set 0.8 om 0.2\n",
    "from sklearn.model_selection import train_test_split\n",
    "X_train, X_test, y_train, y_test = train_test_split(X, y, test_size = 0.2, random_state = 0)\n",
    "\n",
    "from sklearn.preprocessing import StandardScaler\n",
    "sc_x = StandardScaler()\n",
    "xtrain = sc_x.fit_transform(X_train) \n",
    "xtest = sc_x.transform(X_test)\n",
    "\n",
    "# create model\n",
    "from sklearn.linear_model import LogisticRegressionCV\n",
    "classifier = LogisticRegressionCV(cv =5, max_iter=10000,random_state = 0)\n",
    "classifier.fit(xtrain, y_train)\n",
    "\n",
    "y_pred = classifier.predict(xtest)\n",
    "\n",
    "# Print out some more metrics\n",
    "print(\"Logistic regression before SMOTE\")\n",
    "from sklearn.metrics import classification_report\n",
    "print(classification_report(y_test, classifier.predict(xtest)))\n",
    "\n",
    "from sklearn.metrics import accuracy_score\n",
    "print (\"Accuracy : \", accuracy_score(y_test, y_pred))\n",
    "\n",
    "from sklearn.metrics import confusion_matrix\n",
    "cm = confusion_matrix(y_test, y_pred)\n",
    "  \n",
    "print (\"Confusion Matrix : \\n\", cm)\n",
    "\n",
    "from sklearn.metrics import roc_auc_score\n",
    "print(\"ROC_auc: \",roc_auc_score(y_test, y_pred))\n",
    "print(\"Weighted F1_score: \", f1_score(y_test, y_pred, average='weighted'))"
   ]
  },
  {
   "cell_type": "markdown",
   "id": "47ef44e9",
   "metadata": {},
   "source": [
    "### B1.2 Logistic Regression after SMOTE"
   ]
  },
  {
   "cell_type": "code",
   "execution_count": null,
   "id": "13675dbd",
   "metadata": {},
   "outputs": [],
   "source": [
    "from numpy import mean\n",
    "from numpy import std\n",
    "from sklearn.datasets import make_classification\n",
    "from sklearn.model_selection import cross_val_score\n",
    "from sklearn.model_selection import RepeatedStratifiedKFold\n",
    "from sklearn.linear_model import LogisticRegressionCV\n",
    "from sklearn.ensemble import RandomForestClassifier\n",
    "from sklearn.metrics import roc_auc_score\n",
    "from sklearn.metrics import f1_score\n",
    "\n",
    "# define dataset\n",
    "X = final_df1\n",
    "y = final_df.isFraud\n",
    "\n",
    "# split train test set 0.8 om 0.2\n",
    "from sklearn.model_selection import train_test_split\n",
    "X_train, X_test, y_train, y_test = train_test_split(X, y, test_size = 0.2, random_state = 0)\n",
    "\n",
    "# scale the data\n",
    "from sklearn.preprocessing import StandardScaler\n",
    "sc_x = StandardScaler()\n",
    "xtrain = sc_x.fit_transform(X_train) \n",
    "xtest = sc_x.transform(X_test)\n",
    "\n",
    "# balance the data using SMOTE\n",
    "from imblearn.over_sampling import SMOTE\n",
    "sm = SMOTE(random_state=42)\n",
    "X_res, y_res = sm.fit_resample(xtrain, y_train)\n",
    "\n",
    "# create model\n",
    "classifier2 = LogisticRegressionCV(cv =5, max_iter=10000,random_state = 0)\n",
    "classifier2.fit(X_res, y_res)\n",
    "\n",
    "y_pred1=classifier2.predict(xtest)\n",
    "\n",
    "# Print out some more metrics\n",
    "print(\"Logistic Regression after SMOTE\")\n",
    "from sklearn.metrics import classification_report\n",
    "print(classification_report(y_test, classifier2.predict(xtest)))\n",
    "\n",
    "from sklearn.metrics import accuracy_score\n",
    "print (\"Accuracy : \", accuracy_score(y_test, y_pred1))\n",
    "\n",
    "from sklearn.metrics import confusion_matrix\n",
    "cm = confusion_matrix(y_test, y_pred1)\n",
    "  \n",
    "print (\"Confusion Matrix : \\n\", cm)\n",
    "\n",
    "from sklearn.metrics import roc_auc_score\n",
    "print(\"ROC_auc: \",roc_auc_score(y_test, y_pred1))\n",
    "print(\"Weighted F1_score: \", f1_score(y_test, y_pred1, average='weighted'))"
   ]
  },
  {
   "cell_type": "markdown",
   "id": "e283a845",
   "metadata": {},
   "source": [
    "## B2 Elastic Net"
   ]
  },
  {
   "cell_type": "markdown",
   "id": "18cd33f2",
   "metadata": {},
   "source": [
    "### B2.1 Elastic Net hyperparameter tuning"
   ]
  },
  {
   "cell_type": "code",
   "execution_count": null,
   "id": "60057c45",
   "metadata": {},
   "outputs": [],
   "source": [
    "from numpy import mean\n",
    "from numpy import std\n",
    "from sklearn.datasets import make_classification\n",
    "from sklearn.model_selection import cross_val_score\n",
    "from sklearn.model_selection import RepeatedStratifiedKFold\n",
    "from sklearn.linear_model import LogisticRegressionCV\n",
    "from sklearn.ensemble import RandomForestClassifier\n",
    "from surprise.model_selection import cross_validate\n",
    "from surprise.model_selection import GridSearchCV\n",
    "\n",
    "# define dataset\n",
    "X = final_df1\n",
    "y = final_df.isFraud\n",
    "\n",
    "# split train test set 0.8 om 0.2\n",
    "from sklearn.model_selection import train_test_split\n",
    "X_train, X_test, y_train, y_test = train_test_split(X, y, test_size = 0.2, random_state = 0)\n",
    "\n",
    "from sklearn.preprocessing import StandardScaler\n",
    "sc_x = StandardScaler()\n",
    "xtrain = sc_x.fit_transform(X_train) \n",
    "xtest = sc_x.transform(X_test)\n",
    "\n",
    "from sklearn.linear_model import LogisticRegression\n",
    "logreg = LogisticRegression()\n",
    "logreg.fit(X_train,y_train)\n",
    "y_pred = logreg.predict(X_test)\n",
    "\n",
    "from sklearn.model_selection import GridSearchCV\n",
    "import warnings\n",
    "warnings.filterwarnings('ignore')\n",
    "# parameter grid\n",
    "parameters = {\n",
    "    'penalty' : ['elasticnet'], \n",
    "    'solver'  : ['saga'],\n",
    "    'l1_ratio' : [0.1, 0.3, 0.5, 0.7, 0.9]\n",
    "}\n",
    "\n",
    "logreg = LogisticRegression()\n",
    "clf = GridSearchCV(logreg,                    # model\n",
    "                   param_grid = parameters,   # hyperparameters\n",
    "                   scoring='accuracy',        # metric for scoring\n",
    "                   cv=5)                     # number of folds\n",
    "\n",
    "clf.fit(X_train,y_train)\n",
    "\n",
    "\n",
    "print(\"Best score: %f using parameters %s\" % (clf.best_score_, clf.best_params_))"
   ]
  },
  {
   "cell_type": "markdown",
   "id": "09792f7e",
   "metadata": {},
   "source": [
    "### B2.2 Elastic Net model before SMOTE"
   ]
  },
  {
   "cell_type": "code",
   "execution_count": null,
   "id": "0515b2c7",
   "metadata": {},
   "outputs": [],
   "source": [
    "from numpy import mean\n",
    "from numpy import std\n",
    "from sklearn.datasets import make_classification\n",
    "from sklearn.model_selection import cross_val_score\n",
    "from sklearn.model_selection import RepeatedStratifiedKFold\n",
    "from sklearn.linear_model import LogisticRegressionCV\n",
    "\n",
    "# define dataset\n",
    "X = final_df1\n",
    "y = final_df.isFraud\n",
    "\n",
    "# split train test set 0.8 om 0.2\n",
    "from sklearn.model_selection import train_test_split\n",
    "X_train, X_test, y_train, y_test = train_test_split(X, y, test_size = 0.2, random_state = 0)\n",
    "\n",
    "from sklearn.preprocessing import StandardScaler\n",
    "sc_x = StandardScaler()\n",
    "xtrain = sc_x.fit_transform(X_train) \n",
    "xtest = sc_x.transform(X_test)\n",
    "\n",
    "# create model\n",
    "from sklearn.linear_model import ElasticNetCV\n",
    "classifier = LogisticRegressionCV(cv=5, max_iter=10000, penalty='elasticnet', l1_ratios=[0.1], solver='saga', random_state=0)\n",
    "classifier.fit(xtrain, y_train)\n",
    "\n",
    "y_pred = classifier.predict(xtest)\n",
    "\n",
    "# Test the models\n",
    "print(classifier.score(xtest, y_test))\n",
    "\n",
    "# Print out some more metrics\n",
    "print(\"Elastic Net before SMOTE\")\n",
    "from sklearn.metrics import classification_report\n",
    "print(classification_report(y_test, classifier.predict(xtest)))\n",
    "\n",
    "from sklearn.metrics import accuracy_score\n",
    "print (\"Accuracy : \", accuracy_score(y_test, y_pred))\n",
    "\n",
    "from sklearn.metrics import confusion_matrix\n",
    "cm = confusion_matrix(y_test, y_pred)\n",
    "  \n",
    "print (\"Confusion Matrix : \\n\", cm)\n",
    "\n",
    "from sklearn.metrics import mean_squared_error\n",
    "score = classifier.score(xtest, y_test)\n",
    "mse = mean_squared_error(y_test, y_pred)\n",
    "print(\"R2:{0:.3f}, MSE:{1:.2f}, RMSE:{2:.2f}\"\n",
    "      .format(score, mse, np.sqrt(mse)))\n",
    "\n",
    "from sklearn.metrics import roc_auc_score\n",
    "print(\"ROC_auc: \",roc_auc_score(y_test, y_pred))\n",
    "print(\"Weighted F1_score: \", f1_score(y_test, y_pred, average='weighted'))"
   ]
  },
  {
   "cell_type": "markdown",
   "id": "aff3ab9c",
   "metadata": {},
   "source": [
    "### B2.3 Elastic Net model after SMOTE"
   ]
  },
  {
   "cell_type": "code",
   "execution_count": null,
   "id": "510a0fe4",
   "metadata": {},
   "outputs": [],
   "source": [
    "from numpy import mean\n",
    "from numpy import std\n",
    "from sklearn.datasets import make_classification\n",
    "from sklearn.model_selection import cross_val_score\n",
    "from sklearn.model_selection import RepeatedStratifiedKFold\n",
    "from sklearn.linear_model import LogisticRegressionCV\n",
    "\n",
    "# define dataset\n",
    "X = final_df1\n",
    "y = final_df.isFraud\n",
    "\n",
    "# split train test set 0.8 om 0.2\n",
    "from sklearn.model_selection import train_test_split\n",
    "X_train, X_test, y_train, y_test = train_test_split(X, y, test_size = 0.2, random_state = 0)\n",
    "\n",
    "# scale the data\n",
    "from sklearn.preprocessing import StandardScaler\n",
    "sc_x = StandardScaler()\n",
    "xtrain = sc_x.fit_transform(X_train) \n",
    "xtest = sc_x.transform(X_test)\n",
    "\n",
    "# balance the data using SMOTE\n",
    "from imblearn.over_sampling import SMOTE\n",
    "sm = SMOTE(random_state=42)\n",
    "X_res, y_res = sm.fit_resample(xtrain, y_train)\n",
    "\n",
    "# create model\n",
    "classifier2 = LogisticRegressionCV(cv=5, max_iter=10000, penalty='elasticnet', l1_ratios=[0.1], solver='saga', random_state=0)\n",
    "\n",
    "#Fitting the training data\n",
    "classifier2.fit(X_res, y_res)\n",
    "\n",
    "y_pred1=classifier2.predict(xtest)\n",
    "\n",
    "# Print out some more metrics\n",
    "print(\"Elastic Net after SMOTE\")\n",
    "from sklearn.metrics import classification_report\n",
    "print(classification_report(y_test, classifier2.predict(xtest)))\n",
    "\n",
    "from sklearn.metrics import accuracy_score\n",
    "print (\"Accuracy : \", accuracy_score(y_test, y_pred1))\n",
    "\n",
    "from sklearn.metrics import confusion_matrix\n",
    "cm = confusion_matrix(y_test, y_pred1)\n",
    "  \n",
    "print (\"Confusion Matrix : \\n\", cm)\n",
    "\n",
    "from sklearn.metrics import roc_auc_score\n",
    "print(\"ROC_auc: \",roc_auc_score(y_test, y_pred1))\n",
    "from sklearn.metrics import f1_score\n",
    "print(\"Weighted F1_score: \", f1_score(y_test, y_pred1, average='weighted'))"
   ]
  },
  {
   "cell_type": "markdown",
   "id": "cebbf3e5",
   "metadata": {},
   "source": [
    "## B3 Random Forest"
   ]
  },
  {
   "cell_type": "markdown",
   "id": "bc26c9ee",
   "metadata": {},
   "source": [
    "### B3.1 Hyperparameter tuning Random Forest"
   ]
  },
  {
   "cell_type": "code",
   "execution_count": null,
   "id": "156b19f2",
   "metadata": {},
   "outputs": [],
   "source": [
    "from numpy import mean\n",
    "from numpy import std\n",
    "from sklearn.datasets import make_classification\n",
    "from sklearn.model_selection import cross_val_score\n",
    "from sklearn.model_selection import RepeatedStratifiedKFold\n",
    "from sklearn.linear_model import LogisticRegressionCV\n",
    "from sklearn.ensemble import RandomForestClassifier\n",
    "from surprise.model_selection import cross_validate\n",
    "from surprise.model_selection import GridSearchCV\n",
    "\n",
    "# define dataset\n",
    "X = final_df1\n",
    "y = final_df.isFraud\n",
    "\n",
    "# split train test set 0.8 om 0.2\n",
    "from sklearn.model_selection import train_test_split\n",
    "X_train, X_test, y_train, y_test = train_test_split(X, y, test_size = 0.2, random_state = 0)\n",
    "\n",
    "from sklearn.preprocessing import StandardScaler\n",
    "sc_x = StandardScaler()\n",
    "xtrain = sc_x.fit_transform(X_train) \n",
    "xtest = sc_x.transform(X_test)\n",
    "\n",
    "# Number of trees in random forest\n",
    "n_estimators = [10,50,70,100]\n",
    "# Number of features to consider at every split\n",
    "max_features = ['log2', 'sqrt', None]\n",
    "# Minimum number of samples required at each leaf node\n",
    "min_samples_leaf = [1,3,5,8]\n",
    "\n",
    "\n",
    "param_grid = {'n_estimators': n_estimators,\n",
    "               'max_features': max_features,\n",
    "               'min_samples_leaf': min_samples_leaf,}\n",
    "print(param_grid)\n",
    "\n",
    "rf_Model = RandomForestClassifier()\n",
    "\n",
    "from sklearn.model_selection import GridSearchCV\n",
    "rf_Grid = GridSearchCV(estimator = rf_Model, param_grid = param_grid, cv = 5, verbose=2, n_jobs = 4)\n",
    "\n",
    "rf_Grid.fit(xtrain, y_train)\n",
    "\n",
    "print(\"Best score: %f using parameters %s\" % (rf_Grid.best_score_, rf_Grid.best_params_))"
   ]
  },
  {
   "cell_type": "markdown",
   "id": "6236320f",
   "metadata": {},
   "source": [
    "### 3.2 Random Forest model before SMOTE"
   ]
  },
  {
   "cell_type": "code",
   "execution_count": null,
   "id": "de9ccde5",
   "metadata": {},
   "outputs": [],
   "source": [
    "from numpy import mean\n",
    "from numpy import std\n",
    "from sklearn.datasets import make_classification\n",
    "from sklearn.model_selection import cross_val_score\n",
    "from sklearn.model_selection import RepeatedStratifiedKFold\n",
    "from sklearn.linear_model import LogisticRegressionCV\n",
    "from sklearn.ensemble import RandomForestClassifier\n",
    "from sklearn.metrics import roc_auc_score\n",
    "from sklearn.metrics import f1_score\n",
    "\n",
    "# define dataset\n",
    "X = final_df1\n",
    "y = final_df.isFraud\n",
    "\n",
    "# split train test set 0.8 om 0.2\n",
    "from sklearn.model_selection import train_test_split\n",
    "X_train, X_test, y_train, y_test = train_test_split(X, y, test_size = 0.2, random_state = 0)\n",
    "\n",
    "# scale the data\n",
    "from sklearn.preprocessing import StandardScaler\n",
    "sc_x = StandardScaler()\n",
    "xtrain = sc_x.fit_transform(X_train) \n",
    "xtest = sc_x.transform(X_test)\n",
    "\n",
    "# create model\n",
    "classifier = RandomForestClassifier(max_features= None, min_samples_leaf= 1, n_estimators= 70,random_state=0)\n",
    "classifier.fit(xtrain, y_train)\n",
    "\n",
    "y_pred = classifier.predict(xtest)\n",
    "\n",
    "# Print out some more metrics\n",
    "print(\"Random forest before SMOTE\")\n",
    "from sklearn.metrics import classification_report\n",
    "print(classification_report(y_test, classifier.predict(xtest)))\n",
    "\n",
    "from sklearn.metrics import accuracy_score\n",
    "print (\"Accuracy : \", accuracy_score(y_test, y_pred))\n",
    "\n",
    "from sklearn.metrics import confusion_matrix\n",
    "cm = confusion_matrix(y_test, y_pred)\n",
    "  \n",
    "print (\"Confusion Matrix : \\n\", cm)\n",
    "\n",
    "from sklearn.metrics import mean_squared_error\n",
    "\n",
    "print(\"ROC_auc: \",roc_auc_score(y_test, y_pred))\n",
    "print(\"Weighted F1_score: \", f1_score(y_test, y_pred, average='weighted'))\n",
    "print()"
   ]
  },
  {
   "cell_type": "markdown",
   "id": "7bebef8e",
   "metadata": {},
   "source": [
    "### B3.3 Random Forest model after SMOTE"
   ]
  },
  {
   "cell_type": "code",
   "execution_count": null,
   "id": "ee43932a",
   "metadata": {},
   "outputs": [],
   "source": [
    "from numpy import mean\n",
    "from numpy import std\n",
    "from sklearn.datasets import make_classification\n",
    "from sklearn.model_selection import cross_val_score\n",
    "from sklearn.model_selection import RepeatedStratifiedKFold\n",
    "from sklearn.linear_model import LogisticRegressionCV\n",
    "from sklearn.ensemble import RandomForestClassifier\n",
    "from sklearn.metrics import roc_auc_score\n",
    "from sklearn.metrics import f1_score\n",
    "\n",
    "# define dataset\n",
    "X = final_df1\n",
    "y = final_df.isFraud\n",
    "\n",
    "# split train test set 0.8 om 0.2\n",
    "from sklearn.model_selection import train_test_split\n",
    "X_train, X_test, y_train, y_test = train_test_split(X, y, test_size = 0.2, random_state = 0)\n",
    "\n",
    "# scale the data\n",
    "from sklearn.preprocessing import StandardScaler\n",
    "sc_x = StandardScaler()\n",
    "xtrain = sc_x.fit_transform(X_train) \n",
    "xtest = sc_x.transform(X_test)\n",
    "\n",
    "# balance the data using SMOTE\n",
    "from imblearn.over_sampling import SMOTE\n",
    "sm = SMOTE(random_state=42)\n",
    "X_res, y_res = sm.fit_resample(xtrain, y_train)\n",
    "\n",
    "# create model\n",
    "classifier2 = RandomForestClassifier(max_features= None, min_samples_leaf= 1, n_estimators= 70,random_state=0)\n",
    "classifier2.fit(X_res, y_res)\n",
    "\n",
    "y_pred1=classifier2.predict(xtest)\n",
    "\n",
    "# Print out some more metrics\n",
    "print(\"Random forest after SMOTE\")\n",
    "from sklearn.metrics import classification_report\n",
    "print(classification_report(y_test, classifier2.predict(xtest)))\n",
    "\n",
    "from sklearn.metrics import accuracy_score\n",
    "print (\"Accuracy : \", accuracy_score(y_test, y_pred1))\n",
    "\n",
    "from sklearn.metrics import confusion_matrix\n",
    "cm = confusion_matrix(y_test, y_pred1)\n",
    "  \n",
    "print (\"Confusion Matrix : \\n\", cm)\n",
    "\n",
    "print(\"ROC_auc: \",roc_auc_score(y_test, y_pred1))\n",
    "print(\"Weighted F1_score: \", f1_score(y_test, y_pred1, average='weighted'))"
   ]
  }
 ],
 "metadata": {
  "kernelspec": {
   "display_name": "Python 3 (ipykernel)",
   "language": "python",
   "name": "python3"
  },
  "language_info": {
   "codemirror_mode": {
    "name": "ipython",
    "version": 3
   },
   "file_extension": ".py",
   "mimetype": "text/x-python",
   "name": "python",
   "nbconvert_exporter": "python",
   "pygments_lexer": "ipython3",
   "version": "3.9.7"
  }
 },
 "nbformat": 4,
 "nbformat_minor": 5
}
